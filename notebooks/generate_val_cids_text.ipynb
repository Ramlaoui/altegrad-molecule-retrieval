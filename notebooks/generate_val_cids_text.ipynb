{
 "cells": [
  {
   "cell_type": "code",
   "execution_count": 1,
   "metadata": {},
   "outputs": [],
   "source": [
    "import sys\n",
    "import os\n",
    "import yaml\n",
    "from pathlib import Path\n",
    "\n",
    "try:\n",
    "    if not(changed) :\n",
    "        raise Exception(\"changed\")\n",
    "except:\n",
    "    changed = True\n",
    "    sys.path.append(\"../\")\n",
    "    os.chdir(\"../\")"
   ]
  },
  {
   "cell_type": "code",
   "execution_count": 10,
   "metadata": {},
   "outputs": [],
   "source": [
    "from src.dataloader import GraphTextDataset, GraphDataset, TextDataset\n",
    "import numpy as np\n",
    "from transformers import AutoTokenizer\n",
    "\n",
    "tokenizer = AutoTokenizer.from_pretrained(\"bert-base-uncased\")\n",
    "gt = np.load(\"./data/token_embedding_dict.npy\", allow_pickle=True)[()]\n",
    "\n",
    "val_dataset = GraphTextDataset(\n",
    "    root=\"./data/\", gt=gt, split=\"val\", tokenizer=tokenizer\n",
    ")"
   ]
  },
  {
   "cell_type": "code",
   "execution_count": 6,
   "metadata": {},
   "outputs": [],
   "source": [
    "texts = []\n",
    "for text in val_dataset.description[1].values():\n",
    "    texts.append(text)"
   ]
  },
  {
   "cell_type": "code",
   "execution_count": 9,
   "metadata": {},
   "outputs": [],
   "source": [
    "from pathlib import Path\n",
    "\n",
    "data_dir = Path(\"./data\")\n",
    "\n",
    "val_dataset.cids\n",
    "\n",
    "if (data_dir / \"val_cids.txt\").exists():\n",
    "    os.remove(data_dir / \"val_cids.txt\")\n",
    "\n",
    "with open(data_dir / \"val_cids.txt\", \"w\") as f:\n",
    "    for cid in val_dataset.cids:\n",
    "        f.write(str(cid) + \"\\n\")\n",
    "\n",
    "if (data_dir / \"val_text.txt\").exists():\n",
    "    os.remove(data_dir / \"val_text.txt\")\n",
    "\n",
    "with open(data_dir / \"val_text.txt\", \"w\") as f:\n",
    "    for text in texts:\n",
    "        f.write(text + \"\\n\")"
   ]
  },
  {
   "cell_type": "code",
   "execution_count": 13,
   "metadata": {},
   "outputs": [],
   "source": [
    "val_cids_dataset = GraphDataset(\n",
    "    root=\"./data/\", gt=gt, split=\"val_cids\"\n",
    ")\n",
    "\n",
    "val_text_dataset = TextDataset(\n",
    "    file_path=\"./data/val_text.txt\", tokenizer=tokenizer\n",
    ")"
   ]
  },
  {
   "cell_type": "code",
   "execution_count": null,
   "metadata": {},
   "outputs": [],
   "source": []
  }
 ],
 "metadata": {
  "kernelspec": {
   "display_name": "altegrad",
   "language": "python",
   "name": "python3"
  },
  "language_info": {
   "codemirror_mode": {
    "name": "ipython",
    "version": 3
   },
   "file_extension": ".py",
   "mimetype": "text/x-python",
   "name": "python",
   "nbconvert_exporter": "python",
   "pygments_lexer": "ipython3",
   "version": "3.11.7"
  }
 },
 "nbformat": 4,
 "nbformat_minor": 2
}
